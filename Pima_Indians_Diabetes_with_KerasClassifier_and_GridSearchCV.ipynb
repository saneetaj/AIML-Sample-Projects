{
  "nbformat": 4,
  "nbformat_minor": 0,
  "metadata": {
    "colab": {
      "name": "20220629_Pima Indians Diabetes with KerasClassifier and GridSearchCV.ipynb",
      "provenance": [],
      "collapsed_sections": [],
      "authorship_tag": "ABX9TyPQtVJDG5cXDZGbuqcJz62y",
      "include_colab_link": true
    },
    "kernelspec": {
      "name": "python3",
      "display_name": "Python 3"
    },
    "language_info": {
      "name": "python"
    },
    "accelerator": "GPU",
    "gpuClass": "standard"
  },
  "cells": [
    {
      "cell_type": "markdown",
      "metadata": {
        "id": "view-in-github",
        "colab_type": "text"
      },
      "source": [
        "<a href=\"https://colab.research.google.com/github/saneetaj/AIML-Sample-Projects/blob/main/Pima_Indians_Diabetes_with_KerasClassifier_and_GridSearchCV.ipynb\" target=\"_parent\"><img src=\"https://colab.research.google.com/assets/colab-badge.svg\" alt=\"Open In Colab\"/></a>"
      ]
    },
    {
      "cell_type": "code",
      "execution_count": null,
      "metadata": {
        "colab": {
          "base_uri": "https://localhost:8080/"
        },
        "id": "a4teaw9DvmdJ",
        "outputId": "6580db50-f080-41db-e64a-4b01a962ab73"
      },
      "outputs": [
        {
          "output_type": "stream",
          "name": "stderr",
          "text": [
            "/usr/local/lib/python3.7/dist-packages/ipykernel_launcher.py:25: DeprecationWarning: KerasClassifier is deprecated, use Sci-Keras (https://github.com/adriangb/scikeras) instead. See https://www.adriangb.com/scikeras/stable/migration.html for help migrating.\n"
          ]
        },
        {
          "output_type": "stream",
          "name": "stdout",
          "text": [
            "Best: 0.714844 using {'batch_size': 20, 'epochs': 50, 'init': 'uniform', 'optimizer': 'adam'}\n",
            "0.660156 (0.030425) with: {'batch_size': 10, 'epochs': 20, 'init': 'glorot_uniform', 'optimizer': 'rmsprop'}\n",
            "0.683594 (0.008438) with: {'batch_size': 10, 'epochs': 20, 'init': 'glorot_uniform', 'optimizer': 'adam'}\n",
            "0.686198 (0.012890) with: {'batch_size': 10, 'epochs': 20, 'init': 'normal', 'optimizer': 'rmsprop'}\n",
            "0.679688 (0.019918) with: {'batch_size': 10, 'epochs': 20, 'init': 'normal', 'optimizer': 'adam'}\n",
            "0.675781 (0.016877) with: {'batch_size': 10, 'epochs': 20, 'init': 'uniform', 'optimizer': 'rmsprop'}\n",
            "0.686198 (0.009744) with: {'batch_size': 10, 'epochs': 20, 'init': 'uniform', 'optimizer': 'adam'}\n",
            "0.649740 (0.023510) with: {'batch_size': 10, 'epochs': 50, 'init': 'glorot_uniform', 'optimizer': 'rmsprop'}\n",
            "0.644531 (0.036782) with: {'batch_size': 10, 'epochs': 50, 'init': 'glorot_uniform', 'optimizer': 'adam'}\n",
            "0.679688 (0.005524) with: {'batch_size': 10, 'epochs': 50, 'init': 'normal', 'optimizer': 'rmsprop'}\n",
            "0.701823 (0.012890) with: {'batch_size': 10, 'epochs': 50, 'init': 'normal', 'optimizer': 'adam'}\n",
            "0.692708 (0.011201) with: {'batch_size': 10, 'epochs': 50, 'init': 'uniform', 'optimizer': 'rmsprop'}\n",
            "0.684896 (0.023510) with: {'batch_size': 10, 'epochs': 50, 'init': 'uniform', 'optimizer': 'adam'}\n",
            "0.619792 (0.013279) with: {'batch_size': 20, 'epochs': 20, 'init': 'glorot_uniform', 'optimizer': 'rmsprop'}\n",
            "0.657552 (0.008027) with: {'batch_size': 20, 'epochs': 20, 'init': 'glorot_uniform', 'optimizer': 'adam'}\n",
            "0.675781 (0.019918) with: {'batch_size': 20, 'epochs': 20, 'init': 'normal', 'optimizer': 'rmsprop'}\n",
            "0.679688 (0.008438) with: {'batch_size': 20, 'epochs': 20, 'init': 'normal', 'optimizer': 'adam'}\n",
            "0.666667 (0.015733) with: {'batch_size': 20, 'epochs': 20, 'init': 'uniform', 'optimizer': 'rmsprop'}\n",
            "0.694010 (0.015073) with: {'batch_size': 20, 'epochs': 20, 'init': 'uniform', 'optimizer': 'adam'}\n",
            "0.645833 (0.033197) with: {'batch_size': 20, 'epochs': 50, 'init': 'glorot_uniform', 'optimizer': 'rmsprop'}\n",
            "0.680990 (0.006639) with: {'batch_size': 20, 'epochs': 50, 'init': 'glorot_uniform', 'optimizer': 'adam'}\n",
            "0.697917 (0.015733) with: {'batch_size': 20, 'epochs': 50, 'init': 'normal', 'optimizer': 'rmsprop'}\n",
            "0.701823 (0.001841) with: {'batch_size': 20, 'epochs': 50, 'init': 'normal', 'optimizer': 'adam'}\n",
            "0.690104 (0.023939) with: {'batch_size': 20, 'epochs': 50, 'init': 'uniform', 'optimizer': 'rmsprop'}\n",
            "0.714844 (0.025516) with: {'batch_size': 20, 'epochs': 50, 'init': 'uniform', 'optimizer': 'adam'}\n"
          ]
        }
      ],
      "source": [
        "# MLP for Pima Indians Dataset with grid search via sklearn\n",
        "from keras.models import Sequential\n",
        "from keras.layers import Dense\n",
        "from keras.wrappers.scikit_learn import KerasClassifier\n",
        "from sklearn.model_selection import GridSearchCV\n",
        "import numpy\n",
        "import pandas as pd\n",
        "\n",
        "# Function to create model, required for KerasClassifier\n",
        "def create_model(optimizer='rmsprop', init='glorot_uniform'):\n",
        "# create model\n",
        "    model = Sequential()\n",
        "    model.add(Dense(12, input_dim=8, kernel_initializer=init, activation='relu'))\n",
        "    model.add(Dense(8, kernel_initializer=init, activation='relu'))\n",
        "    model.add(Dense(1, kernel_initializer=init, activation='sigmoid'))\n",
        "# Compile model\n",
        "    model.compile(loss='binary_crossentropy', optimizer=optimizer, metrics=['accuracy'])\n",
        "    return model\n",
        "# load pima indians dataset\n",
        "dataset = pd.read_csv('pima-indians-diabetes.csv', delimiter=',')\n",
        "# split into input (X) and output (Y) variables\n",
        "X= dataset.iloc[:,0:8]\n",
        "Y= dataset.iloc[:,8]\n",
        "# create model\n",
        "model = KerasClassifier(build_fn=create_model, verbose=0)\n",
        "# grid search epochs, batch size and optimizer\n",
        "optimizers = ['rmsprop', 'adam']\n",
        "inits = ['glorot_uniform', 'normal', 'uniform']\n",
        "epochs = [20, 50]\n",
        "batches = [10, 20]\n",
        "param_grid = dict(optimizer=optimizers, epochs=epochs, batch_size=batches, init=inits)\n",
        "grid = GridSearchCV(estimator=model, param_grid=param_grid, cv=3)\n",
        "grid_result = grid.fit(X, Y)\n",
        "# summarize results\n",
        "print(\"Best: %f using %s\" % (grid_result.best_score_, grid_result.best_params_))\n",
        "means = grid_result.cv_results_['mean_test_score']\n",
        "stds = grid_result.cv_results_['std_test_score']\n",
        "params = grid_result.cv_results_['params']\n",
        "for mean, stdev, param in zip(means, stds, params):\n",
        "    print(\"%f (%f) with: %r\" % (mean, stdev, param))"
      ]
    }
  ]
}